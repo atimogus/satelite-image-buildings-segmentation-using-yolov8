{
 "cells": [
  {
   "cell_type": "code",
   "execution_count": 2,
   "id": "aa4d8ae1-fa9b-401a-9965-d6f8d7021cfb",
   "metadata": {},
   "outputs": [
    {
     "name": "stdout",
     "output_type": "stream",
     "text": [
      "Untitled.ipynb\tdata.yaml  test  train\n"
     ]
    }
   ],
   "source": [
    "!ls"
   ]
  },
  {
   "cell_type": "code",
   "execution_count": 3,
   "id": "1c17e872-310e-4dcf-9305-2167a23f7a4c",
   "metadata": {},
   "outputs": [],
   "source": [
    "import os\n",
    "import shutil\n",
    "import glob\n"
   ]
  },
  {
   "cell_type": "code",
   "execution_count": 5,
   "id": "abfc0e67-9bf3-4fcf-998b-a0a8948cc044",
   "metadata": {},
   "outputs": [],
   "source": [
    "source_folder = \"/home/wsl/py_notebooks/zgrade/1-Building-from-satellite-imagery/test/\"\n",
    "image_folder = \"/home/wsl/py_notebooks/zgrade/1-Building-from-satellite-imagery/test/images/\"\n",
    "label_folder = \"/home/wsl/py_notebooks/zgrade/1-Building-from-satellite-imagery/test/masks/\"\n",
    "\n",
    "image_files = glob.glob(os.path.join(source_folder, \"*_image.tif\"))\n",
    "label_files = glob.glob(os.path.join(source_folder, \"*_label.tif\"))"
   ]
  },
  {
   "cell_type": "code",
   "execution_count": 6,
   "id": "923c6804-67ba-420c-9fe6-9f9c5a44c39b",
   "metadata": {},
   "outputs": [],
   "source": [
    "for file in image_files:\n",
    "   shutil.move(file, image_folder)\n",
    "\n",
    "for file in label_files:\n",
    "   shutil.move(file, label_folder)\n"
   ]
  },
  {
   "cell_type": "code",
   "execution_count": 10,
   "id": "4df2fd60-748f-42f3-8b75-e2ac443d617c",
   "metadata": {},
   "outputs": [],
   "source": [
    "image_files = glob.glob(os.path.join(image_folder, \"*_image.tif\"))\n",
    "\n",
    "for file in image_files:\n",
    "   base = os.path.basename(file)\n",
    "   new_base = base.replace(\"_image\", \"\")\n",
    "   new_file = os.path.join(image_folder, new_base)\n",
    "   os.rename(file, new_file)"
   ]
  },
  {
   "cell_type": "code",
   "execution_count": 14,
   "id": "76403830-6980-4c13-9a52-9e8c3fbae6e5",
   "metadata": {
    "scrolled": true
   },
   "outputs": [
    {
     "data": {
      "text/plain": [
       "[]"
      ]
     },
     "execution_count": 14,
     "metadata": {},
     "output_type": "execute_result"
    }
   ],
   "source": [
    "image_files = glob.glob(os.path.join(label_folder, \"*_label.tif\"))\n",
    "\n",
    "for file in image_files:\n",
    "   base = os.path.basename(file)\n",
    "   new_base = base.replace(\"_label\", \"\")\n",
    "   new_file = os.path.join(label_folder, new_base)\n",
    " \n",
    "    os.rename(file, new_file)"
   ]
  },
  {
   "cell_type": "code",
   "execution_count": null,
   "id": "8eaa1088-832a-44e5-b072-2de7837790b9",
   "metadata": {},
   "outputs": [],
   "source": [
    "#do the same for train dataset"
   ]
  },
  {
   "cell_type": "code",
   "execution_count": 15,
   "id": "70a9d564-f9e5-45ba-8a4c-a3e6fd0d977d",
   "metadata": {},
   "outputs": [],
   "source": [
    "source_folder = \"/home/wsl/py_notebooks/zgrade/1-Building-from-satellite-imagery/train/\"\n",
    "image_folder = \"/home/wsl/py_notebooks/zgrade/1-Building-from-satellite-imagery/train/images/\"\n",
    "label_folder = \"/home/wsl/py_notebooks/zgrade/1-Building-from-satellite-imagery/train/masks/\"\n",
    "\n",
    "image_files = glob.glob(os.path.join(source_folder, \"*_image.tif\"))\n",
    "label_files = glob.glob(os.path.join(source_folder, \"*_label.tif\"))"
   ]
  },
  {
   "cell_type": "code",
   "execution_count": 16,
   "id": "09bb264b-6e51-4135-bcab-03d3d5e18f91",
   "metadata": {},
   "outputs": [],
   "source": [
    "for file in image_files:\n",
    "   shutil.move(file, image_folder)\n",
    "\n",
    "for file in label_files:\n",
    "   shutil.move(file, label_folder)\n"
   ]
  },
  {
   "cell_type": "code",
   "execution_count": 17,
   "id": "b3c8fbaf-3295-46a5-a3e6-4d8dd2a36135",
   "metadata": {},
   "outputs": [],
   "source": [
    "image_files = glob.glob(os.path.join(image_folder, \"*_image.tif\"))\n",
    "\n",
    "for file in image_files:\n",
    "   base = os.path.basename(file)\n",
    "   new_base = base.replace(\"_image\", \"\")\n",
    "   new_file = os.path.join(image_folder, new_base)\n",
    "   os.rename(file, new_file)"
   ]
  },
  {
   "cell_type": "code",
   "execution_count": 19,
   "id": "ac314d42-2c28-46ea-a002-cf846198bf2b",
   "metadata": {},
   "outputs": [],
   "source": [
    "image_files = glob.glob(os.path.join(label_folder, \"*_label.tif\"))\n",
    "\n",
    "for file in image_files:\n",
    "   base = os.path.basename(file)\n",
    "   new_base = base.replace(\"_label\", \"\")\n",
    "   new_file = os.path.join(label_folder, new_base)\n",
    " \n",
    "   os.rename(file, new_file)"
   ]
  },
  {
   "cell_type": "code",
   "execution_count": null,
   "id": "469affae-6062-4bae-879d-9de1be7c493f",
   "metadata": {},
   "outputs": [],
   "source": []
  }
 ],
 "metadata": {
  "kernelspec": {
   "display_name": "Python 3 (ipykernel)",
   "language": "python",
   "name": "python3"
  },
  "language_info": {
   "codemirror_mode": {
    "name": "ipython",
    "version": 3
   },
   "file_extension": ".py",
   "mimetype": "text/x-python",
   "name": "python",
   "nbconvert_exporter": "python",
   "pygments_lexer": "ipython3",
   "version": "3.10.12"
  }
 },
 "nbformat": 4,
 "nbformat_minor": 5
}
