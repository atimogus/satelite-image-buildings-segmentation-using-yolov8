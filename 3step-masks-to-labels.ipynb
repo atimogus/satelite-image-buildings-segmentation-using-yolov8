{
 "cells": [
  {
   "cell_type": "code",
   "execution_count": 1,
   "id": "42bd7e24-909c-424d-916f-15e576f86d54",
   "metadata": {},
   "outputs": [],
   "source": [
    "import os\n",
    "import cv2\n",
    "import numpy as np\n",
    "import supervision as sv"
   ]
  },
  {
   "cell_type": "code",
   "execution_count": 2,
   "id": "2776fde0-d615-4a96-8015-18f797ab257f",
   "metadata": {},
   "outputs": [],
   "source": [
    "import os\n",
    "\n",
    "# Specify the directories containing the masks and labels\n",
    "mask_dir = '/home/wsl/py_notebooks/zgrade/1-Building-from-satellite-imagery/train/masks_jpg/'\n",
    "lables_dir = '/home/wsl/py_notebooks/zgrade/1-Building-from-satellite-imagery/train/labels/'\n",
    "\n",
    "# List all the files in the directory\n",
    "files = os.listdir(mask_dir)\n",
    "\n",
    "# Filter out only the .jpg files\n",
    "jpg_files = [file for file in files if file.endswith('.jpg')]\n",
    "\n",
    "# Get the full file path for each .jpg file\n",
    "jpg_file_paths = [os.path.join(mask_dir, file) for file in jpg_files]\n"
   ]
  },
  {
   "cell_type": "code",
   "execution_count": 3,
   "id": "bea4c5a2-d6ce-4acc-ae6f-5ad6b7132df6",
   "metadata": {},
   "outputs": [],
   "source": [
    "for file_path in jpg_file_paths:\n",
    "   mask = cv2.imread(file_path, cv2.IMREAD_GRAYSCALE)\n",
    "\n",
    "   # Convert the mask to polygons\n",
    "   polygons = sv.mask_to_polygons(mask)\n",
    "\n",
    "   h,w = mask.shape\n",
    "\n",
    "   normalized_polygons = [[(coord[0]/w, coord[1]/h) for coord in polygon] for polygon in polygons]\n",
    "\n",
    "   # Format the polygons\n",
    "   formatted_polygons = []\n",
    "   for polygon in normalized_polygons:\n",
    "       polygon_str = str(polygon).replace('[', '0 ').replace(']', '').replace(',', '').replace('(', '').replace(')', '')\n",
    "       formatted_polygons.append(polygon_str)\n",
    "\n",
    "   formatted_polygons_str = '\\n'.join(formatted_polygons)\n",
    "\n",
    "   # Specify the name of the text file (same as the .jpg file without the extension)\n",
    "   txt_file_name = os.path.splitext(os.path.basename(file_path))[0] + '.txt'\n",
    "\n",
    "   # Open the text file in write mode\n",
    "   with open(os.path.join(lables_dir, txt_file_name), 'w') as f:\n",
    "       # Write the formatted polygons string to the text file\n",
    "       f.write(formatted_polygons_str)\n"
   ]
  },
  {
   "cell_type": "code",
   "execution_count": null,
   "id": "6b029953-c23e-48f6-b209-86358d712eb6",
   "metadata": {},
   "outputs": [],
   "source": []
  }
 ],
 "metadata": {
  "kernelspec": {
   "display_name": "Python 3 (ipykernel)",
   "language": "python",
   "name": "python3"
  },
  "language_info": {
   "codemirror_mode": {
    "name": "ipython",
    "version": 3
   },
   "file_extension": ".py",
   "mimetype": "text/x-python",
   "name": "python",
   "nbconvert_exporter": "python",
   "pygments_lexer": "ipython3",
   "version": "3.10.12"
  }
 },
 "nbformat": 4,
 "nbformat_minor": 5
}
